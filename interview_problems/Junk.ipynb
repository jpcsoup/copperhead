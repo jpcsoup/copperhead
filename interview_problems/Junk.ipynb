{
 "cells": [
  {
   "cell_type": "code",
   "execution_count": 6,
   "id": "b7d5c0f1-df05-451a-a2c0-25f49a06ef63",
   "metadata": {},
   "outputs": [],
   "source": [
    "strs = [\"flower\",\"flow\",\"flight\"]"
   ]
  },
  {
   "cell_type": "code",
   "execution_count": 31,
   "id": "bee3e662-73af-442a-86d9-f695c1c6e835",
   "metadata": {},
   "outputs": [
    {
     "data": {
      "text/plain": [
       "{'fl'}"
      ]
     },
     "execution_count": 31,
     "metadata": {},
     "output_type": "execute_result"
    }
   ],
   "source": [
    "set([x[0:2] for x in strs])"
   ]
  },
  {
   "cell_type": "code",
   "execution_count": 17,
   "id": "4dcecd83-0390-40b5-b485-894eaabab51e",
   "metadata": {},
   "outputs": [
    {
     "name": "stdout",
     "output_type": "stream",
     "text": [
      "[True, True, False]\n"
     ]
    }
   ],
   "source": [
    "y = [x[0:3] == 'flo' for x in strs]\n",
    "print(y)"
   ]
  },
  {
   "cell_type": "code",
   "execution_count": 18,
   "id": "e5c39523-72fc-45a5-9617-1787905c67ce",
   "metadata": {},
   "outputs": [
    {
     "data": {
      "text/plain": [
       "False"
      ]
     },
     "execution_count": 18,
     "metadata": {},
     "output_type": "execute_result"
    }
   ],
   "source": [
    "all(y)"
   ]
  },
  {
   "cell_type": "code",
   "execution_count": 21,
   "id": "0247e94f-3e2e-46fe-83f6-8f92550aeb25",
   "metadata": {},
   "outputs": [
    {
     "data": {
      "text/plain": [
       "'fl'"
      ]
     },
     "execution_count": 21,
     "metadata": {},
     "output_type": "execute_result"
    }
   ],
   "source": [
    "def longestCommonPrefix(strs):\n",
    "    prefix = ''\n",
    "    for i in range(len(strs[0])):\n",
    "        prefix_check = strs[0][0:i+1]\n",
    "        if all([x[0:i+1] == prefix_check for x in strs]):\n",
    "            prefix = prefix_check\n",
    "    return prefix\n",
    "\n",
    "longestCommonPrefix(strs)"
   ]
  },
  {
   "cell_type": "code",
   "execution_count": 25,
   "id": "1e71fd7f-dfbd-4d0e-96ff-229245a258b6",
   "metadata": {},
   "outputs": [
    {
     "data": {
      "text/plain": [
       "'['"
      ]
     },
     "execution_count": 25,
     "metadata": {},
     "output_type": "execute_result"
    }
   ],
   "source": [
    "brackets = ['(', '{', '[']\n",
    "brackets[-1]"
   ]
  },
  {
   "cell_type": "code",
   "execution_count": 33,
   "id": "21753b89-ffce-431a-94c5-f9b4fc715416",
   "metadata": {},
   "outputs": [
    {
     "data": {
      "text/plain": [
       "False"
      ]
     },
     "execution_count": 33,
     "metadata": {},
     "output_type": "execute_result"
    }
   ],
   "source": [
    "def isValid(s):\n",
    "    brackets = []\n",
    "    mapper = {'(':')', '{':'}', '[':']'}\n",
    "    for l in s:\n",
    "        if l in mapper.keys():\n",
    "            brackets.append(l)\n",
    "        elif l in mapper.values():\n",
    "            if not brackets:\n",
    "                return False\n",
    "            elif l == mapper[brackets[-1]]:\n",
    "                brackets.pop()\n",
    "            else:\n",
    "                return False\n",
    "    return len(brackets) == 0\n",
    "\n",
    "isValid('((([)]))')"
   ]
  },
  {
   "cell_type": "code",
   "execution_count": 39,
   "id": "f0df7952-ed04-454c-a63e-eb7ae85b89fd",
   "metadata": {},
   "outputs": [
    {
     "data": {
      "text/plain": [
       "[['bat', 'tab'], ['tap', 'pat'], ['cat']]"
      ]
     },
     "execution_count": 39,
     "metadata": {},
     "output_type": "execute_result"
    }
   ],
   "source": [
    "from collections import defaultdict\n",
    "from typing import List\n",
    "\n",
    "def group_anagrams(words: List[str]) -> List[List[str]]:\n",
    "    letter_hash = defaultdict(list)\n",
    "    for w in words:\n",
    "        letter_hash[''.join(sorted(w))].append(w)\n",
    "    return list(letter_hash.values())\n",
    "\n",
    "test1 = [\"bat\", \"tab\", \"tap\", \"pat\", \"cat\"]\n",
    "group_anagrams(test1)\n"
   ]
  },
  {
   "cell_type": "code",
   "execution_count": 41,
   "id": "36441bbe-49f2-4133-b20f-cea20f6329d6",
   "metadata": {},
   "outputs": [
    {
     "data": {
      "text/plain": [
       "[3, 4, 4, 5, 5, 6]"
      ]
     },
     "execution_count": 41,
     "metadata": {},
     "output_type": "execute_result"
    }
   ],
   "source": [
    "from collections import defaultdict\n",
    "from typing import List\n",
    "\n",
    "# Input: [4, 5, 6, 5, 4, 3]\n",
    "# Output: [3, 6, 5, 5, 4, 4]\n",
    "\n",
    "def frequency_sort(nums: List[int]) -> List[int]:\n",
    "    num_hash = defaultdict(int)\n",
    "    for n in nums:\n",
    "        num_hash[n] += 1\n",
    "    result = []\n",
    "    for n in sorted(num_hash.keys()):\n",
    "        result += [n for i in range(num_hash[n])]\n",
    "    return result\n",
    "\n",
    "frequency_sort([4, 5, 6, 5, 4, 3])"
   ]
  },
  {
   "cell_type": "code",
   "execution_count": null,
   "id": "994f5a8d-0417-461f-8e54-9abfc0ace0dd",
   "metadata": {},
   "outputs": [],
   "source": [
    "# Input: [1, [2, 3], [4, [5, 6]], 7]\n",
    "# Output: [1, 2, 3, 4, 5, 6, 7]\n",
    "\n",
    "def flatten(nested: List[Any]) -> List[int]:\n",
    "    def flatten2(nest):\n",
    "        \n",
    "    return flatten2(nested)"
   ]
  },
  {
   "cell_type": "code",
   "execution_count": 85,
   "id": "37e8bbdf-151b-4363-b24a-054b8f977a9a",
   "metadata": {},
   "outputs": [
    {
     "data": {
      "text/plain": [
       "['0', '2', '4->6', '8->9']"
      ]
     },
     "execution_count": 85,
     "metadata": {},
     "output_type": "execute_result"
    }
   ],
   "source": [
    "# Input: nums = [1, 3, 7], lower = 0, upper = 9  \n",
    "# Output: [\"0\", \"2\", \"4->6\", \"8->9\"]\n",
    "\n",
    "def find_missing_ranges(nums: List[int], lower: int, upper: int) -> List[str]:\n",
    "    refined = sorted(list(set([i for i in range(lower, upper+1) if i not in nums])))\n",
    "    result = []\n",
    "    start = None\n",
    "    for i in range(len(refined)-1):\n",
    "        gap = refined[i+1] - refined[i]\n",
    "        if start:\n",
    "            if gap > 1:\n",
    "                result.append(f'{start}->{refined[i]}')\n",
    "                if refined[i+1] == max(refined):\n",
    "                    result.append(f'{refined[i+1]}')\n",
    "                start = None\n",
    "        else:\n",
    "            if gap == 1:\n",
    "                start = refined[i]\n",
    "                if refined[i+1] == max(refined):\n",
    "                    result.append(f'{start}->{refined[i+1]}')\n",
    "            else:\n",
    "                result.append(f'{refined[i]}')\n",
    "                if refined[i+1] == max(refined):\n",
    "                    result.append(f'{refined[i]}')\n",
    "                    result.append(f'{refined[i+1]}')\n",
    "    return result\n",
    "\n",
    "def find_missing_ranges(nums: List[int], lower: int, upper: int) -> List[str]:\n",
    "    refined = sorted(list(set([i for i in nums if i >= lower and i <= upper])))\n",
    "    prev = lower - 1\n",
    "    result = []\n",
    "    \n",
    "    for n in nums:\n",
    "        if n - prev == 2:\n",
    "            result.append(f'{n-1}')\n",
    "        if n - prev > 2:\n",
    "            result.append(f'{prev+1}->{n-1}')\n",
    "        prev = n\n",
    "    if upper not in refined:\n",
    "        if upper - refined[-1] == 1:\n",
    "            result.append(f'{upper}')\n",
    "        else:\n",
    "            result.append(f'{refined[-1]+1}->{upper}')\n",
    "    return result\n",
    "\n",
    "find_missing_ranges(nums = [1, 3, 7], lower = 0, upper = 9)\n",
    "# find_missing_ranges(nums = [1, 3, 7, 9], lower = 0, upper = 9)   \n",
    "# find_missing_ranges(nums = [0, 2, 3, 7, 9, 11], lower = 0, upper = 9)   "
   ]
  },
  {
   "cell_type": "code",
   "execution_count": 78,
   "id": "41888968-910d-4928-9f43-80afa252a809",
   "metadata": {},
   "outputs": [
    {
     "data": {
      "text/plain": [
       "['0', '2', '4->6', '8->9']"
      ]
     },
     "execution_count": 78,
     "metadata": {},
     "output_type": "execute_result"
    }
   ],
   "source": [
    "def find_missing_ranges(nums: List[int], lower: int, upper: int) -> List[str]:\n",
    "    result = []\n",
    "    prev = lower - 1\n",
    "    nums.append(upper + 1)\n",
    "\n",
    "    for num in nums:\n",
    "        if num - prev == 2:\n",
    "            result.append(f\"{prev + 1}\")\n",
    "        elif num - prev > 2:\n",
    "            result.append(f\"{prev + 1}->{num - 1}\")\n",
    "        prev = num\n",
    "\n",
    "    return result\n",
    "\n",
    "find_missing_ranges(nums = [1, 3, 7], lower = 0, upper = 9)\n"
   ]
  },
  {
   "cell_type": "code",
   "execution_count": null,
   "id": "042f8fb7-4c16-4014-9b77-99865a5c2fa0",
   "metadata": {},
   "outputs": [],
   "source": [
    "import json\n",
    "from typing import Any        \n",
    "class MockClassifier:\n",
    "    def predict_proba(self, num_unique_words: int, num_words: int) -> float:\n",
    "        return num_unique_words / num_words\n",
    "\n",
    "\n",
    "class InterviewPredictor:\n",
    "    \"\"\"Interview Predictor\n",
    "    \n",
    "    The Predictor is responsible for the ML logic for processing a prediction request.\n",
    "    The Predictor must define the logic that should be executed at predict time.\n",
    "    The Predictor will be invoked as follows:\n",
    "      predictor.predict(prediction_inputs)\n",
    "    \"\"\"\n",
    "    def __init__(self):\n",
    "        self.pipeline = MockClassifier()\n",
    "\n",
    "    def process(self, prediction_inputs: Any) -> Any:\n",
    "        \"\"\"Processes the raw inputs\n",
    "        Args:\n",
    "            prediction_inputs (Any):\n",
    "                Required. The prediction inputs that need to be processed.\n",
    "        Returns:\n",
    "            The processed prediction inputs.\n",
    "        \"\"\"\n",
    "        def word_metrics(comment: str) -> dict[str,Any]:\n",
    "            x = comment.split(' ')\n",
    "            return {'num_unique_words': len(list(set(x))), 'num_words': len(x)}\n",
    "        # print([word_metrics(x['comment']) for x in prediction_inputs['instances']])\n",
    "        return [word_metrics(x['comment']) for x in prediction_inputs['instances']]\n",
    "        pass\n",
    "\n",
    "    def classify(self, instances: Any) -> dict[str, list[dict[str, int]]]:\n",
    "        \"\"\"Performs classification.\n",
    "        Args:\n",
    "            instances (Any):\n",
    "                Required. The instance(s) used for performing classification.\n",
    "        Returns:\n",
    "            Classification results.\n",
    "        \"\"\"\n",
    "        results = []\n",
    "        for i in instances:\n",
    "            print(i)\n",
    "            prct = self.pipeline.predict_proba(i['num_unique_words'], i['num_words'])\n",
    "            results.append({'category': 1 if prct > 0.5 else 0})\n",
    "        return {\"predictions\": results}\n",
    "        pass\n",
    "\n",
    "    def predict(self, prediction_inputs: Any) -> dict[str, list[dict[str, int]]]:\n",
    "        \"\"\"Predict and return results.\n",
    "        Args:\n",
    "            prediction_inputs (Any):\n",
    "                Required. The raw prediction inputs.\n",
    "        Returns:\n",
    "            The postprocessed prediction results.\n",
    "        \"\"\"\n",
    "        processed_data = self.process(prediction_inputs)\n",
    "        results = self.classify(processed_data)\n",
    "        return results\n",
    "if __name__ == \"__main__\":\n",
    "    predictor = InterviewPredictor()\n",
    "    \n",
    "    inputs = json.loads(input().strip())\n",
    "    \n",
    "    try:\n",
    "        results = predictor.predict(inputs)\n",
    "        print(json.dumps(results))\n",
    "    except Exception as e:\n",
    "        raise e\n",
    "        # print(\"ERROR\")"
   ]
  }
 ],
 "metadata": {
  "kernelspec": {
   "display_name": "Python 3 (ipykernel)",
   "language": "python",
   "name": "python3"
  },
  "language_info": {
   "codemirror_mode": {
    "name": "ipython",
    "version": 3
   },
   "file_extension": ".py",
   "mimetype": "text/x-python",
   "name": "python",
   "nbconvert_exporter": "python",
   "pygments_lexer": "ipython3",
   "version": "3.9.6"
  }
 },
 "nbformat": 4,
 "nbformat_minor": 5
}
